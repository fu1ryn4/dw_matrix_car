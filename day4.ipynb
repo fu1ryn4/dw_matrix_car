{
 "cells": [
  {
   "cell_type": "code",
   "execution_count": 1,
   "metadata": {},
   "outputs": [
    {
     "name": "stdout",
     "output_type": "stream",
     "text": [
      "Defaulting to user installation because normal site-packages is not writeable\n",
      "Requirement already satisfied: xgboost in /home/maks/.local/lib/python3.7/site-packages (1.0.2)\n",
      "Requirement already satisfied: scipy in /opt/anaconda/lib/python3.7/site-packages (from xgboost) (1.4.1)\n",
      "Requirement already satisfied: numpy in /opt/anaconda/lib/python3.7/site-packages (from xgboost) (1.18.1)\n"
     ]
    }
   ],
   "source": [
    "!pip install xgboost"
   ]
  },
  {
   "cell_type": "code",
   "execution_count": 1,
   "metadata": {},
   "outputs": [
    {
     "name": "stderr",
     "output_type": "stream",
     "text": [
      "/opt/anaconda/lib/python3.7/site-packages/sklearn/utils/deprecation.py:144: FutureWarning: The sklearn.metrics.scorer module is  deprecated in version 0.22 and will be removed in version 0.24. The corresponding classes / functions should instead be imported from sklearn.metrics. Anything that cannot be imported from sklearn.metrics is now part of the private API.\n",
      "  warnings.warn(message, FutureWarning)\n",
      "/opt/anaconda/lib/python3.7/site-packages/sklearn/utils/deprecation.py:144: FutureWarning: The sklearn.feature_selection.base module is  deprecated in version 0.22 and will be removed in version 0.24. The corresponding classes / functions should instead be imported from sklearn.feature_selection. Anything that cannot be imported from sklearn.feature_selection is now part of the private API.\n",
      "  warnings.warn(message, FutureWarning)\n"
     ]
    }
   ],
   "source": [
    "import pandas as pd\n",
    "import numpy as np\n",
    "\n",
    "from sklearn.dummy import DummyRegressor\n",
    "from sklearn.tree import DecisionTreeRegressor\n",
    "from sklearn.ensemble import RandomForestRegressor\n",
    "\n",
    "import xgboost as xgb\n",
    "\n",
    "from sklearn.metrics import mean_absolute_error as mae\n",
    "from sklearn.model_selection import cross_val_score, KFold\n",
    "\n",
    "import eli5\n",
    "from eli5.sklearn import PermutationImportance"
   ]
  },
  {
   "cell_type": "code",
   "execution_count": 2,
   "metadata": {},
   "outputs": [
    {
     "name": "stdout",
     "output_type": "stream",
     "text": [
      "\u001b[0m\u001b[01;32mcar.h5\u001b[0m*\r\n"
     ]
    }
   ],
   "source": [
    "ls ../data/"
   ]
  },
  {
   "cell_type": "code",
   "execution_count": 3,
   "metadata": {},
   "outputs": [],
   "source": [
    "df = pd.read_hdf('../data/car.h5')"
   ]
  },
  {
   "cell_type": "markdown",
   "metadata": {},
   "source": [
    "## Dummy Model"
   ]
  },
  {
   "cell_type": "code",
   "execution_count": 4,
   "metadata": {},
   "outputs": [
    {
     "data": {
      "text/plain": [
       "Index(['price_value', 'car_id'], dtype='object')"
      ]
     },
     "execution_count": 4,
     "metadata": {},
     "output_type": "execute_result"
    }
   ],
   "source": [
    "df.select_dtypes(np.number).columns"
   ]
  },
  {
   "cell_type": "code",
   "execution_count": 5,
   "metadata": {},
   "outputs": [
    {
     "data": {
      "text/plain": [
       "39465.934630440985"
      ]
     },
     "execution_count": 5,
     "metadata": {},
     "output_type": "execute_result"
    }
   ],
   "source": [
    "feats = ['car_id']\n",
    "X = df[ feats ].values\n",
    "y = df['price_value'].values\n",
    "\n",
    "model = DummyRegressor()\n",
    "model.fit(X,y)\n",
    "y_pred = model.predict(X)\n",
    "\n",
    "mae(y, y_pred)"
   ]
  },
  {
   "cell_type": "code",
   "execution_count": 6,
   "metadata": {},
   "outputs": [
    {
     "data": {
      "text/plain": [
       "['price_currency', 'price_details', 'price_value']"
      ]
     },
     "execution_count": 6,
     "metadata": {},
     "output_type": "execute_result"
    }
   ],
   "source": [
    "[x for x in df.columns if 'price' in x]"
   ]
  },
  {
   "cell_type": "code",
   "execution_count": 7,
   "metadata": {},
   "outputs": [
    {
     "data": {
      "text/plain": [
       "PLN    106290\n",
       "EUR       204\n",
       "Name: price_currency, dtype: int64"
      ]
     },
     "execution_count": 7,
     "metadata": {},
     "output_type": "execute_result"
    }
   ],
   "source": [
    "df['price_currency'].value_counts()"
   ]
  },
  {
   "cell_type": "code",
   "execution_count": 8,
   "metadata": {},
   "outputs": [],
   "source": [
    "df = df[df['price_currency'] != 'EUR']"
   ]
  },
  {
   "cell_type": "code",
   "execution_count": 9,
   "metadata": {},
   "outputs": [
    {
     "data": {
      "text/plain": [
       "(106290, 155)"
      ]
     },
     "execution_count": 9,
     "metadata": {},
     "output_type": "execute_result"
    }
   ],
   "source": [
    "df.shape"
   ]
  },
  {
   "cell_type": "markdown",
   "metadata": {},
   "source": [
    "## Features factorization"
   ]
  },
  {
   "cell_type": "code",
   "execution_count": 10,
   "metadata": {},
   "outputs": [],
   "source": [
    "SUFFIX_CAT = '__cat'\n",
    "for feat in df.columns:\n",
    "    if isinstance(df[feat][0],list): continue\n",
    "        \n",
    "    factorized_values = df[feat].factorize()[0]\n",
    "    if SUFFIX_CAT in feat:\n",
    "        df[feat] = factorized_values\n",
    "    else:\n",
    "        df[feat + SUFFIX_CAT] = factorized_values\n",
    "            "
   ]
  },
  {
   "cell_type": "code",
   "execution_count": 17,
   "metadata": {},
   "outputs": [
    {
     "data": {
      "text/plain": [
       "154"
      ]
     },
     "execution_count": 17,
     "metadata": {},
     "output_type": "execute_result"
    }
   ],
   "source": [
    "cat_feats = [ x for x in df.columns if SUFFIX_CAT in x]\n",
    "len(cat_feats)"
   ]
  },
  {
   "cell_type": "code",
   "execution_count": 19,
   "metadata": {},
   "outputs": [
    {
     "data": {
      "text/plain": [
       "151"
      ]
     },
     "execution_count": 19,
     "metadata": {},
     "output_type": "execute_result"
    }
   ],
   "source": [
    "cat_feats = [ x for x in cat_feats if 'price' not in x]\n",
    "len(cat_feats)"
   ]
  },
  {
   "cell_type": "code",
   "execution_count": 15,
   "metadata": {},
   "outputs": [],
   "source": [
    "def run_model(model,feats):\n",
    "    X = df[feats].values\n",
    "    y = df['price_value'].values\n",
    "\n",
    "    #model = DecisionTreeRegressor(max_depth=5)\n",
    "    scores = cross_val_score(model, X, y, cv=3, scoring='neg_mean_absolute_error')\n",
    "    return np.mean(scores), np.std(scores)"
   ]
  },
  {
   "cell_type": "code",
   "execution_count": 20,
   "metadata": {},
   "outputs": [
    {
     "data": {
      "text/plain": [
       "(-19566.588937368324, 90.6181486516617)"
      ]
     },
     "execution_count": 20,
     "metadata": {},
     "output_type": "execute_result"
    }
   ],
   "source": [
    "run_model(DecisionTreeRegressor(max_depth=5), cat_feats)"
   ]
  },
  {
   "cell_type": "code",
   "execution_count": null,
   "metadata": {},
   "outputs": [],
   "source": []
  },
  {
   "cell_type": "markdown",
   "metadata": {},
   "source": [
    "## Random Forest"
   ]
  },
  {
   "cell_type": "code",
   "execution_count": 21,
   "metadata": {},
   "outputs": [
    {
     "data": {
      "text/plain": [
       "(-18734.2072708522, 109.87074106274046)"
      ]
     },
     "execution_count": 21,
     "metadata": {},
     "output_type": "execute_result"
    }
   ],
   "source": [
    "model = RandomForestRegressor(max_depth=5, n_estimators=50, random_state=0)\n",
    "run_model(model, cat_feats)"
   ]
  },
  {
   "cell_type": "markdown",
   "metadata": {},
   "source": [
    "## XGBoost"
   ]
  },
  {
   "cell_type": "code",
   "execution_count": 23,
   "metadata": {},
   "outputs": [
    {
     "data": {
      "text/plain": [
       "(-13039.290196724838, 109.36715375706265)"
      ]
     },
     "execution_count": 23,
     "metadata": {},
     "output_type": "execute_result"
    }
   ],
   "source": [
    "xgb_params = {\n",
    "    'max_depth': 5,\n",
    "    'n_estimators': 50,\n",
    "    'learning_rate': 0.1,\n",
    "    'seed': 0,\n",
    "}\n",
    "\n",
    "model = xgb.XGXGBoostXGBoostXGBoostXGBoostBRegressor(**xgb_params)\n",
    "run_model(model, cat_feats)"
   ]
  },
  {
   "cell_type": "markdown",
   "metadata": {},
   "source": [
    "## PermutationImportance by XGBoost"
   ]
  },
  {
   "cell_type": "code",
   "execution_count": 24,
   "metadata": {},
   "outputs": [
    {
     "data": {
      "text/html": [
       "\n",
       "    <style>\n",
       "    table.eli5-weights tr:hover {\n",
       "        filter: brightness(85%);\n",
       "    }\n",
       "</style>\n",
       "\n",
       "\n",
       "\n",
       "    \n",
       "\n",
       "    \n",
       "\n",
       "    \n",
       "\n",
       "    \n",
       "\n",
       "    \n",
       "\n",
       "    \n",
       "\n",
       "\n",
       "    \n",
       "\n",
       "    \n",
       "\n",
       "    \n",
       "\n",
       "    \n",
       "\n",
       "    \n",
       "\n",
       "    \n",
       "\n",
       "\n",
       "    \n",
       "\n",
       "    \n",
       "\n",
       "    \n",
       "\n",
       "    \n",
       "\n",
       "    \n",
       "        <table class=\"eli5-weights eli5-feature-importances\" style=\"border-collapse: collapse; border: none; margin-top: 0em; table-layout: auto;\">\n",
       "    <thead>\n",
       "    <tr style=\"border: none;\">\n",
       "        <th style=\"padding: 0 1em 0 0.5em; text-align: right; border: none;\">Weight</th>\n",
       "        <th style=\"padding: 0 0.5em 0 0.5em; text-align: left; border: none;\">Feature</th>\n",
       "    </tr>\n",
       "    </thead>\n",
       "    <tbody>\n",
       "    \n",
       "        <tr style=\"background-color: hsl(120, 100.00%, 80.00%); border: none;\">\n",
       "            <td style=\"padding: 0 1em 0 0.5em; text-align: right; border: none;\">\n",
       "                0.1209\n",
       "                \n",
       "                    &plusmn; 0.0019\n",
       "                \n",
       "            </td>\n",
       "            <td style=\"padding: 0 0.5em 0 0.5em; text-align: left; border: none;\">\n",
       "                param_napęd__cat\n",
       "            </td>\n",
       "        </tr>\n",
       "    \n",
       "        <tr style=\"background-color: hsl(120, 100.00%, 80.40%); border: none;\">\n",
       "            <td style=\"padding: 0 1em 0 0.5em; text-align: right; border: none;\">\n",
       "                0.1175\n",
       "                \n",
       "                    &plusmn; 0.0030\n",
       "                \n",
       "            </td>\n",
       "            <td style=\"padding: 0 0.5em 0 0.5em; text-align: left; border: none;\">\n",
       "                param_rok-produkcji__cat\n",
       "            </td>\n",
       "        </tr>\n",
       "    \n",
       "        <tr style=\"background-color: hsl(120, 100.00%, 81.13%); border: none;\">\n",
       "            <td style=\"padding: 0 1em 0 0.5em; text-align: right; border: none;\">\n",
       "                0.1113\n",
       "                \n",
       "                    &plusmn; 0.0013\n",
       "                \n",
       "            </td>\n",
       "            <td style=\"padding: 0 0.5em 0 0.5em; text-align: left; border: none;\">\n",
       "                param_stan__cat\n",
       "            </td>\n",
       "        </tr>\n",
       "    \n",
       "        <tr style=\"background-color: hsl(120, 100.00%, 87.40%); border: none;\">\n",
       "            <td style=\"padding: 0 1em 0 0.5em; text-align: right; border: none;\">\n",
       "                0.0625\n",
       "                \n",
       "                    &plusmn; 0.0019\n",
       "                \n",
       "            </td>\n",
       "            <td style=\"padding: 0 0.5em 0 0.5em; text-align: left; border: none;\">\n",
       "                param_skrzynia-biegów__cat\n",
       "            </td>\n",
       "        </tr>\n",
       "    \n",
       "        <tr style=\"background-color: hsl(120, 100.00%, 88.82%); border: none;\">\n",
       "            <td style=\"padding: 0 1em 0 0.5em; text-align: right; border: none;\">\n",
       "                0.0527\n",
       "                \n",
       "                    &plusmn; 0.0016\n",
       "                \n",
       "            </td>\n",
       "            <td style=\"padding: 0 0.5em 0 0.5em; text-align: left; border: none;\">\n",
       "                param_faktura-vat__cat\n",
       "            </td>\n",
       "        </tr>\n",
       "    \n",
       "        <tr style=\"background-color: hsl(120, 100.00%, 89.81%); border: none;\">\n",
       "            <td style=\"padding: 0 1em 0 0.5em; text-align: right; border: none;\">\n",
       "                0.0461\n",
       "                \n",
       "                    &plusmn; 0.0015\n",
       "                \n",
       "            </td>\n",
       "            <td style=\"padding: 0 0.5em 0 0.5em; text-align: left; border: none;\">\n",
       "                param_moc__cat\n",
       "            </td>\n",
       "        </tr>\n",
       "    \n",
       "        <tr style=\"background-color: hsl(120, 100.00%, 92.90%); border: none;\">\n",
       "            <td style=\"padding: 0 1em 0 0.5em; text-align: right; border: none;\">\n",
       "                0.0275\n",
       "                \n",
       "                    &plusmn; 0.0008\n",
       "                \n",
       "            </td>\n",
       "            <td style=\"padding: 0 0.5em 0 0.5em; text-align: left; border: none;\">\n",
       "                param_marka-pojazdu__cat\n",
       "            </td>\n",
       "        </tr>\n",
       "    \n",
       "        <tr style=\"background-color: hsl(120, 100.00%, 93.73%); border: none;\">\n",
       "            <td style=\"padding: 0 1em 0 0.5em; text-align: right; border: none;\">\n",
       "                0.0230\n",
       "                \n",
       "                    &plusmn; 0.0004\n",
       "                \n",
       "            </td>\n",
       "            <td style=\"padding: 0 0.5em 0 0.5em; text-align: left; border: none;\">\n",
       "                param_typ__cat\n",
       "            </td>\n",
       "        </tr>\n",
       "    \n",
       "        <tr style=\"background-color: hsl(120, 100.00%, 93.80%); border: none;\">\n",
       "            <td style=\"padding: 0 1em 0 0.5em; text-align: right; border: none;\">\n",
       "                0.0227\n",
       "                \n",
       "                    &plusmn; 0.0007\n",
       "                \n",
       "            </td>\n",
       "            <td style=\"padding: 0 0.5em 0 0.5em; text-align: left; border: none;\">\n",
       "                feature_kamera-cofania__cat\n",
       "            </td>\n",
       "        </tr>\n",
       "    \n",
       "        <tr style=\"background-color: hsl(120, 100.00%, 94.49%); border: none;\">\n",
       "            <td style=\"padding: 0 1em 0 0.5em; text-align: right; border: none;\">\n",
       "                0.0191\n",
       "                \n",
       "                    &plusmn; 0.0007\n",
       "                \n",
       "            </td>\n",
       "            <td style=\"padding: 0 0.5em 0 0.5em; text-align: left; border: none;\">\n",
       "                param_pojemność-skokowa__cat\n",
       "            </td>\n",
       "        </tr>\n",
       "    \n",
       "        <tr style=\"background-color: hsl(120, 100.00%, 95.36%); border: none;\">\n",
       "            <td style=\"padding: 0 1em 0 0.5em; text-align: right; border: none;\">\n",
       "                0.0150\n",
       "                \n",
       "                    &plusmn; 0.0009\n",
       "                \n",
       "            </td>\n",
       "            <td style=\"padding: 0 0.5em 0 0.5em; text-align: left; border: none;\">\n",
       "                seller_name__cat\n",
       "            </td>\n",
       "        </tr>\n",
       "    \n",
       "        <tr style=\"background-color: hsl(120, 100.00%, 95.55%); border: none;\">\n",
       "            <td style=\"padding: 0 1em 0 0.5em; text-align: right; border: none;\">\n",
       "                0.0141\n",
       "                \n",
       "                    &plusmn; 0.0008\n",
       "                \n",
       "            </td>\n",
       "            <td style=\"padding: 0 0.5em 0 0.5em; text-align: left; border: none;\">\n",
       "                param_kod-silnika__cat\n",
       "            </td>\n",
       "        </tr>\n",
       "    \n",
       "        <tr style=\"background-color: hsl(120, 100.00%, 95.81%); border: none;\">\n",
       "            <td style=\"padding: 0 1em 0 0.5em; text-align: right; border: none;\">\n",
       "                0.0130\n",
       "                \n",
       "                    &plusmn; 0.0002\n",
       "                \n",
       "            </td>\n",
       "            <td style=\"padding: 0 0.5em 0 0.5em; text-align: left; border: none;\">\n",
       "                param_model-pojazdu__cat\n",
       "            </td>\n",
       "        </tr>\n",
       "    \n",
       "        <tr style=\"background-color: hsl(120, 100.00%, 96.05%); border: none;\">\n",
       "            <td style=\"padding: 0 1em 0 0.5em; text-align: right; border: none;\">\n",
       "                0.0119\n",
       "                \n",
       "                    &plusmn; 0.0004\n",
       "                \n",
       "            </td>\n",
       "            <td style=\"padding: 0 0.5em 0 0.5em; text-align: left; border: none;\">\n",
       "                feature_wspomaganie-kierownicy__cat\n",
       "            </td>\n",
       "        </tr>\n",
       "    \n",
       "        <tr style=\"background-color: hsl(120, 100.00%, 96.29%); border: none;\">\n",
       "            <td style=\"padding: 0 1em 0 0.5em; text-align: right; border: none;\">\n",
       "                0.0109\n",
       "                \n",
       "                    &plusmn; 0.0003\n",
       "                \n",
       "            </td>\n",
       "            <td style=\"padding: 0 0.5em 0 0.5em; text-align: left; border: none;\">\n",
       "                param_wersja__cat\n",
       "            </td>\n",
       "        </tr>\n",
       "    \n",
       "        <tr style=\"background-color: hsl(120, 100.00%, 96.64%); border: none;\">\n",
       "            <td style=\"padding: 0 1em 0 0.5em; text-align: right; border: none;\">\n",
       "                0.0095\n",
       "                \n",
       "                    &plusmn; 0.0007\n",
       "                \n",
       "            </td>\n",
       "            <td style=\"padding: 0 0.5em 0 0.5em; text-align: left; border: none;\">\n",
       "                feature_czujniki-parkowania-przednie__cat\n",
       "            </td>\n",
       "        </tr>\n",
       "    \n",
       "        <tr style=\"background-color: hsl(120, 100.00%, 96.77%); border: none;\">\n",
       "            <td style=\"padding: 0 1em 0 0.5em; text-align: right; border: none;\">\n",
       "                0.0089\n",
       "                \n",
       "                    &plusmn; 0.0003\n",
       "                \n",
       "            </td>\n",
       "            <td style=\"padding: 0 0.5em 0 0.5em; text-align: left; border: none;\">\n",
       "                feature_asystent-pasa-ruchu__cat\n",
       "            </td>\n",
       "        </tr>\n",
       "    \n",
       "        <tr style=\"background-color: hsl(120, 100.00%, 96.95%); border: none;\">\n",
       "            <td style=\"padding: 0 1em 0 0.5em; text-align: right; border: none;\">\n",
       "                0.0082\n",
       "                \n",
       "                    &plusmn; 0.0002\n",
       "                \n",
       "            </td>\n",
       "            <td style=\"padding: 0 0.5em 0 0.5em; text-align: left; border: none;\">\n",
       "                feature_regulowane-zawieszenie__cat\n",
       "            </td>\n",
       "        </tr>\n",
       "    \n",
       "        <tr style=\"background-color: hsl(120, 100.00%, 96.99%); border: none;\">\n",
       "            <td style=\"padding: 0 1em 0 0.5em; text-align: right; border: none;\">\n",
       "                0.0081\n",
       "                \n",
       "                    &plusmn; 0.0004\n",
       "                \n",
       "            </td>\n",
       "            <td style=\"padding: 0 0.5em 0 0.5em; text-align: left; border: none;\">\n",
       "                feature_system-start-stop__cat\n",
       "            </td>\n",
       "        </tr>\n",
       "    \n",
       "        <tr style=\"background-color: hsl(120, 100.00%, 97.23%); border: none;\">\n",
       "            <td style=\"padding: 0 1em 0 0.5em; text-align: right; border: none;\">\n",
       "                0.0072\n",
       "                \n",
       "                    &plusmn; 0.0004\n",
       "                \n",
       "            </td>\n",
       "            <td style=\"padding: 0 0.5em 0 0.5em; text-align: left; border: none;\">\n",
       "                feature_światła-led__cat\n",
       "            </td>\n",
       "        </tr>\n",
       "    \n",
       "    \n",
       "        \n",
       "            <tr style=\"background-color: hsl(120, 100.00%, 97.23%); border: none;\">\n",
       "                <td colspan=\"2\" style=\"padding: 0 0.5em 0 0.5em; text-align: center; border: none; white-space: nowrap;\">\n",
       "                    <i>&hellip; 131 more &hellip;</i>\n",
       "                </td>\n",
       "            </tr>\n",
       "        \n",
       "    \n",
       "    </tbody>\n",
       "</table>\n",
       "    \n",
       "\n",
       "    \n",
       "\n",
       "\n",
       "    \n",
       "\n",
       "    \n",
       "\n",
       "    \n",
       "\n",
       "    \n",
       "\n",
       "    \n",
       "\n",
       "    \n",
       "\n",
       "\n",
       "\n"
      ],
      "text/plain": [
       "<IPython.core.display.HTML object>"
      ]
     },
     "execution_count": 24,
     "metadata": {},
     "output_type": "execute_result"
    }
   ],
   "source": [
    "m = xgb.XGBRegressor(**xgb_params)\n",
    "m.fit(X, y)\n",
    "\n",
    "imp = PermutationImportance(m, random_state=0).fit(X,y)\n",
    "eli5.show_weights(imp, feature_names=cat_feats)"
   ]
  },
  {
   "cell_type": "code",
   "execution_count": 53,
   "metadata": {},
   "outputs": [],
   "source": [
    "s = \"\"\"\n",
    "0.1209 ± 0.0019 \tparam_napęd__cat\n",
    "0.1175 ± 0.0030 \tparam_rok-produkcji__cat\n",
    "0.1113 ± 0.0013 \tparam_stan__cat\n",
    "0.0625 ± 0.0019 \tparam_skrzynia-biegów__cat\n",
    "0.0527 ± 0.0016 \tparam_faktura-vat__cat\n",
    "0.0461 ± 0.0015 \tparam_moc__cat\n",
    "0.0275 ± 0.0008 \tparam_marka-pojazdu__cat\n",
    "0.0230 ± 0.0004 \tparam_typ__cat\n",
    "0.0227 ± 0.0007 \tfeature_kamera-cofania__cat\n",
    "0.0191 ± 0.0007 \tparam_pojemność-skokowa__cat\n",
    "0.0150 ± 0.0009 \tseller_name__cat\n",
    "0.0141 ± 0.0008 \tparam_kod-silnika__cat\n",
    "0.0130 ± 0.0002 \tparam_model-pojazdu__cat\n",
    "0.0119 ± 0.0004 \tfeature_wspomaganie-kierownicy__cat\n",
    "0.0109 ± 0.0003 \tparam_wersja__cat\n",
    "0.0095 ± 0.0007 \tfeature_czujniki-parkowania-przednie__cat\n",
    "0.0089 ± 0.0003 \tfeature_asystent-pasa-ruchu__cat\n",
    "0.0082 ± 0.0002 \tfeature_regulowane-zawieszenie__cat\n",
    "0.0081 ± 0.0004 \tfeature_system-start-stop__cat\n",
    "0.0072 ± 0.0004 \tfeature_światła-led__cat \n",
    "\"\"\""
   ]
  },
  {
   "cell_type": "code",
   "execution_count": 59,
   "metadata": {},
   "outputs": [],
   "source": [
    "\n",
    "s = s.replace('\\n',' ')\n",
    "s = s.replace('\\t',' ')\n",
    "dirty_feats = s.split(\" \")\n",
    "feats = dirty_feats[5::5]"
   ]
  },
  {
   "cell_type": "code",
   "execution_count": 60,
   "metadata": {},
   "outputs": [
    {
     "data": {
      "text/plain": [
       "['param_napęd__cat',\n",
       " 'param_rok-produkcji__cat',\n",
       " 'param_stan__cat',\n",
       " 'param_skrzynia-biegów__cat',\n",
       " 'param_faktura-vat__cat',\n",
       " 'param_moc__cat',\n",
       " 'param_marka-pojazdu__cat',\n",
       " 'param_typ__cat',\n",
       " 'feature_kamera-cofania__cat',\n",
       " 'param_pojemność-skokowa__cat',\n",
       " 'seller_name__cat',\n",
       " 'param_kod-silnika__cat',\n",
       " 'param_model-pojazdu__cat',\n",
       " 'feature_wspomaganie-kierownicy__cat',\n",
       " 'param_wersja__cat',\n",
       " 'feature_czujniki-parkowania-przednie__cat',\n",
       " 'feature_asystent-pasa-ruchu__cat',\n",
       " 'feature_regulowane-zawieszenie__cat',\n",
       " 'feature_system-start-stop__cat',\n",
       " 'feature_światła-led__cat']"
      ]
     },
     "execution_count": 60,
     "metadata": {},
     "output_type": "execute_result"
    }
   ],
   "source": [
    "feats\n",
    "\n"
   ]
  },
  {
   "cell_type": "code",
   "execution_count": 61,
   "metadata": {},
   "outputs": [
    {
     "data": {
      "text/plain": [
       "20"
      ]
     },
     "execution_count": 61,
     "metadata": {},
     "output_type": "execute_result"
    }
   ],
   "source": [
    "len(feats)"
   ]
  },
  {
   "cell_type": "code",
   "execution_count": 62,
   "metadata": {},
   "outputs": [
    {
     "data": {
      "text/plain": [
       "(-13240.835942843716, 95.7039217631258)"
      ]
     },
     "execution_count": 62,
     "metadata": {},
     "output_type": "execute_result"
    }
   ],
   "source": [
    "run_model(xgb.XGBRegressor(**xgb_params),feats)"
   ]
  },
  {
   "cell_type": "code",
   "execution_count": 63,
   "metadata": {},
   "outputs": [],
   "source": [
    "# wynik pogorszyl sie nieznacznie"
   ]
  },
  {
   "cell_type": "code",
   "execution_count": null,
   "metadata": {},
   "outputs": [],
   "source": []
  },
  {
   "cell_type": "code",
   "execution_count": null,
   "metadata": {},
   "outputs": [],
   "source": []
  },
  {
   "cell_type": "code",
   "execution_count": 64,
   "metadata": {},
   "outputs": [
    {
     "data": {
      "text/plain": [
       "array([None, 'Na przednie koła', '4x4 (dołączany automatycznie)',\n",
       "       'Na tylne koła', '4x4 (dołączany ręcznie)', '4x4 (stały)'],\n",
       "      dtype=object)"
      ]
     },
     "execution_count": 64,
     "metadata": {},
     "output_type": "execute_result"
    }
   ],
   "source": [
    "df['param_napęd'].unique()"
   ]
  },
  {
   "cell_type": "code",
   "execution_count": 65,
   "metadata": {},
   "outputs": [
    {
     "data": {
      "text/plain": [
       "array(['2018', '2011', '2015', '2009', '2017', '2012', '2013', '2007',\n",
       "       '2001', '2016', '2006', '2008', '2004', '1999', '2000', '2010',\n",
       "       '2005', '2002', '1998', '2014', '2003', '1982', '1995', '1997',\n",
       "       '1992', '1993', '1994', '1996', '1989', '1988', '1967', '1987',\n",
       "       '1959', '1990', '1991', '1974', None, '1975', '1973', '1985',\n",
       "       '1984', '1986', '1981', '1979', '1960', '1983', '1978', '1964',\n",
       "       '1980', '1972', '1969', '1956', '1966', '1977', '1971', '1963',\n",
       "       '1953', '1961', '1952', '1949', '1976', '1965', '1937', '1968',\n",
       "       '1958', '1962', '1955', '1970', '1933', '1929', '1957', '1944',\n",
       "       '1954', '1932', '1936', '1947', '1948'], dtype=object)"
      ]
     },
     "execution_count": 65,
     "metadata": {},
     "output_type": "execute_result"
    }
   ],
   "source": [
    "df['param_rok-produkcji'].unique()"
   ]
  },
  {
   "cell_type": "code",
   "execution_count": 67,
   "metadata": {},
   "outputs": [
    {
     "data": {
      "text/plain": [
       "array([ 0,  1,  2,  3,  4,  5,  6,  7,  8,  9, 10, 11, 12, 13, 14, 15, 16,\n",
       "       17, 18, 19, 20, 21, 22, 23, 24, 25, 26, 27, 28, 29, 30, 31, 32, 33,\n",
       "       34, 35, -1, 36, 37, 38, 39, 40, 41, 42, 43, 44, 45, 46, 47, 48, 49,\n",
       "       50, 51, 52, 53, 54, 55, 56, 57, 58, 59, 60, 61, 62, 63, 64, 65, 66,\n",
       "       67, 68, 69, 70, 71, 72, 73, 74, 75])"
      ]
     },
     "execution_count": 67,
     "metadata": {},
     "output_type": "execute_result"
    }
   ],
   "source": [
    "df['param_rok-produkcji__cat'].unique()"
   ]
  },
  {
   "cell_type": "code",
   "execution_count": 68,
   "metadata": {},
   "outputs": [],
   "source": [
    "# rok tracony w wyniku faktoryzacji"
   ]
  },
  {
   "cell_type": "code",
   "execution_count": 71,
   "metadata": {},
   "outputs": [
    {
     "data": {
      "text/plain": [
       "array([2018, 2011, 2015, 2009, 2017, 2012, 2013, 2007, 2001, 2016, 2006,\n",
       "       2008, 2004, 1999, 2000, 2010, 2005, 2002, 1998, 2014, 2003, 1982,\n",
       "       1995, 1997, 1992, 1993, 1994, 1996, 1989, 1988, 1967, 1987, 1959,\n",
       "       1990, 1991, 1974,   -1, 1975, 1973, 1985, 1984, 1986, 1981, 1979,\n",
       "       1960, 1983, 1978, 1964, 1980, 1972, 1969, 1956, 1966, 1977, 1971,\n",
       "       1963, 1953, 1961, 1952, 1949, 1976, 1965, 1937, 1968, 1958, 1962,\n",
       "       1955, 1970, 1933, 1929, 1957, 1944, 1954, 1932, 1936, 1947, 1948])"
      ]
     },
     "execution_count": 71,
     "metadata": {},
     "output_type": "execute_result"
    }
   ],
   "source": [
    "df['param_rok-produkcji'] = df['param_rok-produkcji'].map(lambda x: -1 if str(x) == 'None' else int(x))\n",
    "df['param_rok-produkcji'].unique()"
   ]
  },
  {
   "cell_type": "code",
   "execution_count": 72,
   "metadata": {},
   "outputs": [
    {
     "data": {
      "text/plain": [
       "['param_napęd__cat',\n",
       " 'param_rok-produkcji__cat',\n",
       " 'param_stan__cat',\n",
       " 'param_skrzynia-biegów__cat',\n",
       " 'param_faktura-vat__cat',\n",
       " 'param_moc__cat',\n",
       " 'param_marka-pojazdu__cat',\n",
       " 'param_typ__cat',\n",
       " 'feature_kamera-cofania__cat',\n",
       " 'param_pojemność-skokowa__cat',\n",
       " 'seller_name__cat',\n",
       " 'param_kod-silnika__cat',\n",
       " 'param_model-pojazdu__cat',\n",
       " 'feature_wspomaganie-kierownicy__cat',\n",
       " 'param_wersja__cat',\n",
       " 'feature_czujniki-parkowania-przednie__cat',\n",
       " 'feature_asystent-pasa-ruchu__cat',\n",
       " 'feature_regulowane-zawieszenie__cat',\n",
       " 'feature_system-start-stop__cat',\n",
       " 'feature_światła-led__cat']"
      ]
     },
     "execution_count": 72,
     "metadata": {},
     "output_type": "execute_result"
    }
   ],
   "source": [
    "feats"
   ]
  },
  {
   "cell_type": "code",
   "execution_count": 75,
   "metadata": {},
   "outputs": [],
   "source": [
    "index=feats.index('param_rok-produkcji__cat')"
   ]
  },
  {
   "cell_type": "code",
   "execution_count": 76,
   "metadata": {},
   "outputs": [],
   "source": [
    "feats[index]='param_rok-produkcji'"
   ]
  },
  {
   "cell_type": "code",
   "execution_count": 77,
   "metadata": {},
   "outputs": [
    {
     "data": {
      "text/plain": [
       "['param_napęd__cat',\n",
       " 'param_rok-produkcji',\n",
       " 'param_stan__cat',\n",
       " 'param_skrzynia-biegów__cat',\n",
       " 'param_faktura-vat__cat',\n",
       " 'param_moc__cat',\n",
       " 'param_marka-pojazdu__cat',\n",
       " 'param_typ__cat',\n",
       " 'feature_kamera-cofania__cat',\n",
       " 'param_pojemność-skokowa__cat',\n",
       " 'seller_name__cat',\n",
       " 'param_kod-silnika__cat',\n",
       " 'param_model-pojazdu__cat',\n",
       " 'feature_wspomaganie-kierownicy__cat',\n",
       " 'param_wersja__cat',\n",
       " 'feature_czujniki-parkowania-przednie__cat',\n",
       " 'feature_asystent-pasa-ruchu__cat',\n",
       " 'feature_regulowane-zawieszenie__cat',\n",
       " 'feature_system-start-stop__cat',\n",
       " 'feature_światła-led__cat']"
      ]
     },
     "execution_count": 77,
     "metadata": {},
     "output_type": "execute_result"
    }
   ],
   "source": [
    "feats"
   ]
  },
  {
   "cell_type": "code",
   "execution_count": 80,
   "metadata": {},
   "outputs": [
    {
     "data": {
      "text/plain": [
       "(-11197.83713694348, 98.22041147876314)"
      ]
     },
     "execution_count": 80,
     "metadata": {},
     "output_type": "execute_result"
    }
   ],
   "source": [
    "run_model(xgb.XGBRegressor(**xgb_params),feats)"
   ]
  },
  {
   "cell_type": "code",
   "execution_count": 81,
   "metadata": {},
   "outputs": [
    {
     "data": {
      "text/plain": [
       "array(['90 KM', '115 KM', '262 KM', '110 KM', '310 KM', '105 KM',\n",
       "       '140 KM', '175 KM', '125 KM', '185 KM', '190 KM', '440 KM',\n",
       "       '141 KM', '200 KM', '224 KM', '75 KM', '99 KM', '184 KM', '109 KM',\n",
       "       '233 KM', '116 KM', '68 KM', '286 KM', '126 KM', '160 KM',\n",
       "       '135 KM', '120 KM', '272 KM', None, '150 KM', '180 KM', '136 KM',\n",
       "       '102 KM', '131 KM', '218 KM', '245 KM', '170 KM', '112 KM',\n",
       "       '250 KM', '252 KM', '73 KM', '100 KM', '313 KM', '101 KM',\n",
       "       '285 KM', '70 KM', '383 KM', '174 KM', '277 KM', '132 KM',\n",
       "       '130 KM', '215 KM', '60 KM', '330 KM', '163 KM', '177 KM', '98 KM',\n",
       "       '78 KM', '189 KM', '156 KM', '143 KM', '69 KM', '113 KM', '65 KM',\n",
       "       '122 KM', '82 KM', '251 KM', '95 KM', '197 KM', '235 KM', '238 KM',\n",
       "       '171 KM', '381 KM', '400 KM', '178 KM', '80 KM', '165 KM', '85 KM',\n",
       "       '258 KM', '142 KM', '204 KM', '124 KM', '55 KM', '144 KM',\n",
       "       '231 KM', '248 KM', '152 KM', '181 KM', '210 KM', '340 KM',\n",
       "       '129 KM', '147 KM', '50 KM', '54 KM', '290 KM', '306 KM', '193 KM',\n",
       "       '77 KM', '164 KM', '96 KM', '194 KM', '111 KM', '166 KM', '206 KM',\n",
       "       '118 KM', '360 KM', '211 KM', '271 KM', '455 KM', '280 KM',\n",
       "       '106 KM', '114 KM', '421 KM', '74 KM', '213 KM', '121 KM',\n",
       "       '275 KM', '435 KM', '384 KM', '326 KM', '88 KM', '220 KM',\n",
       "       '260 KM', '64 KM', '86 KM', '128 KM', '256 KM', '240 KM', '244 KM',\n",
       "       '162 KM', '237 KM', '350 KM', '35 KM', '265 KM', '202 KM',\n",
       "       '133 KM', '83 KM', '117 KM', '146 KM', '92 KM', '192 KM', '145 KM',\n",
       "       '525 KM', '254 KM', '182 KM', '328 KM', '367 KM', '148 KM',\n",
       "       '456 KM', '97 KM', '270 KM', '107 KM', '108 KM', '203 KM',\n",
       "       '155 KM', '94 KM', '93 KM', '241 KM', '20 KM', '71 KM', '173 KM',\n",
       "       '58 KM', '205 KM', '236 KM', '1 400 KM', '557 KM', '84 KM',\n",
       "       '457 KM', '72 KM', '295 KM', '134 KM', '425 KM', '228 KM', '81 KM',\n",
       "       '230 KM', '201 KM', '87 KM', '234 KM', '299 KM', '585 KM',\n",
       "       '209 KM', '370 KM', '6 600 KM', '305 KM', '382 KM', '560 KM',\n",
       "       '158 KM', '176 KM', '320 KM', '225 KM', '62 KM', '255 KM',\n",
       "       '300 KM', '354 KM', '45 KM', '420 KM', '510 KM', '243 KM',\n",
       "       '239 KM', '468 KM', '409 KM', '24 KM', '335 KM', '605 KM',\n",
       "       '410 KM', '416 KM', '183 KM', '303 KM', '59 KM', '4 KM', '283 KM',\n",
       "       '385 KM', '104 KM', '127 KM', '278 KM', '344 KM', '365 KM',\n",
       "       '333 KM', '680 KM', '161 KM', '195 KM', '214 KM', '66 KM',\n",
       "       '170 000 KM', '219 KM', '89 KM', '41 KM', '249 KM', '388 KM',\n",
       "       '103 KM', '217 KM', '570 KM', '625 KM', '364 KM', '450 KM',\n",
       "       '138 KM', '253 KM', '67 KM', '157 KM', '405 KM', '517 KM',\n",
       "       '319 KM', '612 KM', '188 KM', '710 KM', '274 KM', '186 KM',\n",
       "       '139 KM', '11 000 KM', '1 006 KM', '153 KM', '1 430 KM', '323 KM',\n",
       "       '430 KM', '329 KM', '196 KM', '57 KM', '507 KM', '207 KM',\n",
       "       '489 KM', '460 KM', '408 KM', '308 KM', '359 KM', '312 KM',\n",
       "       '179 600 KM', '149 KM', '550 KM', '520 KM', '380 KM', '297 KM',\n",
       "       '347 KM', '259 KM', '212 KM', '343 KM', '309 KM', '53 KM',\n",
       "       '169 KM', '208 KM', '76 KM', '449 KM', '47 KM', '338 KM',\n",
       "       '1 995 KM', '470 KM', '151 KM', '168 KM', '600 KM', '660 KM',\n",
       "       '48 KM', '264 KM', '315 KM', '232 KM', '63 KM', '630 KM', '51 KM',\n",
       "       '1 156 KM', '351 KM', '442 KM', '191 KM', '5 KM', '91 KM', '21 KM',\n",
       "       '407 KM', '284 KM', '346 KM', '717 KM', '276 KM', '431 KM',\n",
       "       '179 KM', '223 KM', '40 KM', '325 KM', '11 KM', '268 KM', '640 KM',\n",
       "       '292 KM', '1 KM', '316 KM', '477 KM', '11 555 KM', '167 KM',\n",
       "       '390 KM', '226 KM', '317 KM', '172 KM', '187 KM', '1 005 KM',\n",
       "       '500 KM', '6 934 KM', '289 KM', '345 KM', '558 KM', '267 KM',\n",
       "       '540 KM', '9 KM', '279 KM', '334 KM', '137 KM', '287 KM', '10 KM',\n",
       "       '401 KM', '199 KM', '544 KM', '298 KM', '394 KM', '780 KM',\n",
       "       '123 KM', '530 KM', '426 KM', '307 KM', '222 KM', '79 KM',\n",
       "       '399 KM', '263 KM', '327 KM', '198 KM', '1 998 KM', '404 KM',\n",
       "       '30 KM', '502 KM', '469 KM', '1 122 KM', '3 KM', '386 KM', '61 KM',\n",
       "       '154 KM', '269 KM', '10 731 KM', '311 KM', '480 KM', '376 KM',\n",
       "       '519 KM', '361 KM', '770 KM', '453 KM', '1 600 KM', '281 KM',\n",
       "       '294 KM', '441 KM', '332 KM', '247 KM', '227 KM', '800 KM',\n",
       "       '288 KM', '337 KM', '324 KM', '362 KM', '23 KM', '242 KM',\n",
       "       '357 KM', '39 KM', '575 KM', '998 KM', '273 KM', '56 KM', '119 KM',\n",
       "       '462 KM', '43 KM', '355 KM', '52 KM', '387 KM', '566 KM', '12 KM',\n",
       "       '439 KM', '352 KM', '422 KM', '296 KM', '304 KM', '555 KM',\n",
       "       '551 KM', '485 KM', '42 KM', '610 KM', '397 KM', '221 KM',\n",
       "       '348 KM', '432 KM', '37 KM', '349 KM', '302 KM', '356 KM',\n",
       "       '2 100 KM', '476 KM', '975 KM', '369 KM', '486 KM', '246 KM',\n",
       "       '3 700 KM', '372 KM', '318 KM', '395 KM', '514 KM', '14 800 KM',\n",
       "       '406 KM', '412 KM', '8 498 KM', '342 KM', '9 000 KM', '1 254 KM',\n",
       "       '445 KM', '13 KM', '2 800 KM', '229 KM', '282 KM', '495 KM',\n",
       "       '378 KM', '490 KM', '368 KM', '472 KM', '375 KM', '7 500 KM',\n",
       "       '363 KM', '650 KM', '159 KM', '1 110 KM', '44 KM', '434 KM',\n",
       "       '571 KM', '543 848 KM', '707 KM', '301 KM', '2 000 KM', '216 KM',\n",
       "       '1 100 KM', '36 KM', '266 KM', '2 300 KM', '609 KM', '46 KM',\n",
       "       '1 116 KM', '1 300 KM', '900 KM', '339 KM', '475 KM', '565 KM',\n",
       "       '396 KM', '8 500 KM', '465 KM', '685 KM', '437 KM', '257 KM',\n",
       "       '5 100 KM', '371 KM', '2 938 KM', '492 KM', '411 KM', '526 KM',\n",
       "       '27 KM', '8 KM', '549 KM', '12 648 KM', '261 KM', '177 000 KM',\n",
       "       '10 000 KM', '293 KM', '1 984 KM', '2 018 KM', '175 000 KM',\n",
       "       '1 900 KM', '1 360 KM', '581 KM', '1 781 KM', '28 KM',\n",
       "       '174 000 KM', '501 KM', '504 KM', '31 KM', '1 991 KM', '466 KM',\n",
       "       '576 KM', '9 600 KM', '415 KM', '7 700 KM', '10 500 KM',\n",
       "       '1 198 KM', '799 KM', '18 KM', '447 KM', '366 KM', '15 KM',\n",
       "       '2 465 KM', '580 KM', '1 136 KM', '136 000 KM', '11 200 KM',\n",
       "       '590 KM', '564 KM', '1 000 KM', '1 500 KM', '38 KM', '291 KM',\n",
       "       '2 840 KM', '2 311 KM', '1 424 KM', '745 KM', '14 KM', '321 KM',\n",
       "       '436 KM', '314 KM', '584 KM', '336 KM', '25 KM', '140 000 KM',\n",
       "       '531 KM', '2 KM', '1 540 KM', '529 KM', '467 KM', '478 KM',\n",
       "       '8 568 KM', '322 KM', '140 105 KM'], dtype=object)"
      ]
     },
     "execution_count": 81,
     "metadata": {},
     "output_type": "execute_result"
    }
   ],
   "source": [
    "df['param_moc'].unique()\n"
   ]
  },
  {
   "cell_type": "code",
   "execution_count": 91,
   "metadata": {},
   "outputs": [
    {
     "ename": "AttributeError",
     "evalue": "'int' object has no attribute 'split'",
     "output_type": "error",
     "traceback": [
      "\u001b[0;31m--------------------------------------------\u001b[0m",
      "\u001b[0;31mAttributeError\u001b[0mTraceback (most recent call last)",
      "\u001b[0;32m<ipython-input-91-61922210aa8a>\u001b[0m in \u001b[0;36m<module>\u001b[0;34m\u001b[0m\n\u001b[0;32m----> 1\u001b[0;31m \u001b[0mdf\u001b[0m\u001b[0;34m[\u001b[0m\u001b[0;34m'param_moc'\u001b[0m\u001b[0;34m]\u001b[0m\u001b[0;34m=\u001b[0m \u001b[0mdf\u001b[0m\u001b[0;34m[\u001b[0m\u001b[0;34m'param_moc'\u001b[0m\u001b[0;34m]\u001b[0m\u001b[0;34m.\u001b[0m\u001b[0mmap\u001b[0m\u001b[0;34m(\u001b[0m\u001b[0;32mlambda\u001b[0m \u001b[0mx\u001b[0m\u001b[0;34m:\u001b[0m \u001b[0;34m-\u001b[0m\u001b[0;36m1\u001b[0m \u001b[0;32mif\u001b[0m \u001b[0mstr\u001b[0m\u001b[0;34m(\u001b[0m\u001b[0mx\u001b[0m\u001b[0;34m)\u001b[0m \u001b[0;34m==\u001b[0m \u001b[0;34m'None'\u001b[0m \u001b[0;32melse\u001b[0m \u001b[0mint\u001b[0m\u001b[0;34m(\u001b[0m\u001b[0mx\u001b[0m\u001b[0;34m.\u001b[0m\u001b[0msplit\u001b[0m\u001b[0;34m(\u001b[0m\u001b[0;34m' '\u001b[0m\u001b[0;34m)\u001b[0m\u001b[0;34m[\u001b[0m\u001b[0;36m0\u001b[0m\u001b[0;34m]\u001b[0m\u001b[0;34m)\u001b[0m  \u001b[0;34m)\u001b[0m\u001b[0;34m\u001b[0m\u001b[0;34m\u001b[0m\u001b[0m\n\u001b[0m\u001b[1;32m      2\u001b[0m \u001b[0mindex\u001b[0m \u001b[0;34m=\u001b[0m \u001b[0mfeats\u001b[0m\u001b[0;34m.\u001b[0m\u001b[0mindex\u001b[0m\u001b[0;34m(\u001b[0m\u001b[0;34m'param_moc__cat'\u001b[0m\u001b[0;34m)\u001b[0m\u001b[0;34m\u001b[0m\u001b[0;34m\u001b[0m\u001b[0m\n\u001b[1;32m      3\u001b[0m \u001b[0mindex\u001b[0m\u001b[0;34m\u001b[0m\u001b[0;34m\u001b[0m\u001b[0m\n",
      "\u001b[0;32m/opt/anaconda/lib/python3.7/site-packages/pandas/core/series.py\u001b[0m in \u001b[0;36mmap\u001b[0;34m(self, arg, na_action)\u001b[0m\n\u001b[1;32m   3628\u001b[0m         \u001b[0mdtype\u001b[0m\u001b[0;34m:\u001b[0m \u001b[0mobject\u001b[0m\u001b[0;34m\u001b[0m\u001b[0;34m\u001b[0m\u001b[0m\n\u001b[1;32m   3629\u001b[0m         \"\"\"\n\u001b[0;32m-> 3630\u001b[0;31m         \u001b[0mnew_values\u001b[0m \u001b[0;34m=\u001b[0m \u001b[0msuper\u001b[0m\u001b[0;34m(\u001b[0m\u001b[0;34m)\u001b[0m\u001b[0;34m.\u001b[0m\u001b[0m_map_values\u001b[0m\u001b[0;34m(\u001b[0m\u001b[0marg\u001b[0m\u001b[0;34m,\u001b[0m \u001b[0mna_action\u001b[0m\u001b[0;34m=\u001b[0m\u001b[0mna_action\u001b[0m\u001b[0;34m)\u001b[0m\u001b[0;34m\u001b[0m\u001b[0;34m\u001b[0m\u001b[0m\n\u001b[0m\u001b[1;32m   3631\u001b[0m         \u001b[0;32mreturn\u001b[0m \u001b[0mself\u001b[0m\u001b[0;34m.\u001b[0m\u001b[0m_constructor\u001b[0m\u001b[0;34m(\u001b[0m\u001b[0mnew_values\u001b[0m\u001b[0;34m,\u001b[0m \u001b[0mindex\u001b[0m\u001b[0;34m=\u001b[0m\u001b[0mself\u001b[0m\u001b[0;34m.\u001b[0m\u001b[0mindex\u001b[0m\u001b[0;34m)\u001b[0m\u001b[0;34m.\u001b[0m\u001b[0m__finalize__\u001b[0m\u001b[0;34m(\u001b[0m\u001b[0mself\u001b[0m\u001b[0;34m)\u001b[0m\u001b[0;34m\u001b[0m\u001b[0;34m\u001b[0m\u001b[0m\n\u001b[1;32m   3632\u001b[0m \u001b[0;34m\u001b[0m\u001b[0m\n",
      "\u001b[0;32m/opt/anaconda/lib/python3.7/site-packages/pandas/core/base.py\u001b[0m in \u001b[0;36m_map_values\u001b[0;34m(self, mapper, na_action)\u001b[0m\n\u001b[1;32m   1152\u001b[0m \u001b[0;34m\u001b[0m\u001b[0m\n\u001b[1;32m   1153\u001b[0m         \u001b[0;31m# mapper is a function\u001b[0m\u001b[0;34m\u001b[0m\u001b[0;34m\u001b[0m\u001b[0;34m\u001b[0m\u001b[0m\n\u001b[0;32m-> 1154\u001b[0;31m         \u001b[0mnew_values\u001b[0m \u001b[0;34m=\u001b[0m \u001b[0mmap_f\u001b[0m\u001b[0;34m(\u001b[0m\u001b[0mvalues\u001b[0m\u001b[0;34m,\u001b[0m \u001b[0mmapper\u001b[0m\u001b[0;34m)\u001b[0m\u001b[0;34m\u001b[0m\u001b[0;34m\u001b[0m\u001b[0m\n\u001b[0m\u001b[1;32m   1155\u001b[0m \u001b[0;34m\u001b[0m\u001b[0m\n\u001b[1;32m   1156\u001b[0m         \u001b[0;32mreturn\u001b[0m \u001b[0mnew_values\u001b[0m\u001b[0;34m\u001b[0m\u001b[0;34m\u001b[0m\u001b[0m\n",
      "\u001b[0;32mpandas/_libs/lib.pyx\u001b[0m in \u001b[0;36mpandas._libs.lib.map_infer\u001b[0;34m()\u001b[0m\n",
      "\u001b[0;32m<ipython-input-91-61922210aa8a>\u001b[0m in \u001b[0;36m<lambda>\u001b[0;34m(x)\u001b[0m\n\u001b[0;32m----> 1\u001b[0;31m \u001b[0mdf\u001b[0m\u001b[0;34m[\u001b[0m\u001b[0;34m'param_moc'\u001b[0m\u001b[0;34m]\u001b[0m\u001b[0;34m=\u001b[0m \u001b[0mdf\u001b[0m\u001b[0;34m[\u001b[0m\u001b[0;34m'param_moc'\u001b[0m\u001b[0;34m]\u001b[0m\u001b[0;34m.\u001b[0m\u001b[0mmap\u001b[0m\u001b[0;34m(\u001b[0m\u001b[0;32mlambda\u001b[0m \u001b[0mx\u001b[0m\u001b[0;34m:\u001b[0m \u001b[0;34m-\u001b[0m\u001b[0;36m1\u001b[0m \u001b[0;32mif\u001b[0m \u001b[0mstr\u001b[0m\u001b[0;34m(\u001b[0m\u001b[0mx\u001b[0m\u001b[0;34m)\u001b[0m \u001b[0;34m==\u001b[0m \u001b[0;34m'None'\u001b[0m \u001b[0;32melse\u001b[0m \u001b[0mint\u001b[0m\u001b[0;34m(\u001b[0m\u001b[0mx\u001b[0m\u001b[0;34m.\u001b[0m\u001b[0msplit\u001b[0m\u001b[0;34m(\u001b[0m\u001b[0;34m' '\u001b[0m\u001b[0;34m)\u001b[0m\u001b[0;34m[\u001b[0m\u001b[0;36m0\u001b[0m\u001b[0;34m]\u001b[0m\u001b[0;34m)\u001b[0m  \u001b[0;34m)\u001b[0m\u001b[0;34m\u001b[0m\u001b[0;34m\u001b[0m\u001b[0m\n\u001b[0m\u001b[1;32m      2\u001b[0m \u001b[0mindex\u001b[0m \u001b[0;34m=\u001b[0m \u001b[0mfeats\u001b[0m\u001b[0;34m.\u001b[0m\u001b[0mindex\u001b[0m\u001b[0;34m(\u001b[0m\u001b[0;34m'param_moc__cat'\u001b[0m\u001b[0;34m)\u001b[0m\u001b[0;34m\u001b[0m\u001b[0;34m\u001b[0m\u001b[0m\n\u001b[1;32m      3\u001b[0m \u001b[0mindex\u001b[0m\u001b[0;34m\u001b[0m\u001b[0;34m\u001b[0m\u001b[0m\n",
      "\u001b[0;31mAttributeError\u001b[0m: 'int' object has no attribute 'split'"
     ]
    }
   ],
   "source": [
    "df['param_moc']= df['param_moc'].map(lambda x: -1 if str(x) == 'None' else int(x.split(' ')[0])  )\n"
   ]
  },
  {
   "cell_type": "code",
   "execution_count": 85,
   "metadata": {},
   "outputs": [
    {
     "data": {
      "text/plain": [
       "0         2018\n",
       "2         2011\n",
       "3         2015\n",
       "4         2009\n",
       "5         2017\n",
       "          ... \n",
       "160609    2013\n",
       "160610    2013\n",
       "160611    2006\n",
       "160614    2003\n",
       "160615    2006\n",
       "Name: param_rok-produkcji, Length: 106290, dtype: int64"
      ]
     },
     "execution_count": 85,
     "metadata": {},
     "output_type": "execute_result"
    }
   ],
   "source": []
  },
  {
   "cell_type": "code",
   "execution_count": 92,
   "metadata": {},
   "outputs": [
    {
     "data": {
      "text/plain": [
       "5"
      ]
     },
     "execution_count": 92,
     "metadata": {},
     "output_type": "execute_result"
    }
   ],
   "source": [
    "index = feats.index('param_moc__cat')\n",
    "index"
   ]
  },
  {
   "cell_type": "code",
   "execution_count": 93,
   "metadata": {},
   "outputs": [],
   "source": [
    "feats[5] = 'param_moc'"
   ]
  },
  {
   "cell_type": "code",
   "execution_count": 94,
   "metadata": {},
   "outputs": [
    {
     "data": {
      "text/plain": [
       "array([ 90, 115, 262, 110, 310, 105, 140, 175, 125, 185, 190, 440, 141,\n",
       "       200, 224,  75,  99, 184, 109, 233, 116,  68, 286, 126, 160, 135,\n",
       "       120, 272,  -1, 150, 180, 136, 102, 131, 218, 245, 170, 112, 250,\n",
       "       252,  73, 100, 313, 101, 285,  70, 383, 174, 277, 132, 130, 215,\n",
       "        60, 330, 163, 177,  98,  78, 189, 156, 143,  69, 113,  65, 122,\n",
       "        82, 251,  95, 197, 235, 238, 171, 381, 400, 178,  80, 165,  85,\n",
       "       258, 142, 204, 124,  55, 144, 231, 248, 152, 181, 210, 340, 129,\n",
       "       147,  50,  54, 290, 306, 193,  77, 164,  96, 194, 111, 166, 206,\n",
       "       118, 360, 211, 271, 455, 280, 106, 114, 421,  74, 213, 121, 275,\n",
       "       435, 384, 326,  88, 220, 260,  64,  86, 128, 256, 240, 244, 162,\n",
       "       237, 350,  35, 265, 202, 133,  83, 117, 146,  92, 192, 145, 525,\n",
       "       254, 182, 328, 367, 148, 456,  97, 270, 107, 108, 203, 155,  94,\n",
       "        93, 241,  20,  71, 173,  58, 205, 236,   1, 557,  84, 457,  72,\n",
       "       295, 134, 425, 228,  81, 230, 201,  87, 234, 299, 585, 209, 370,\n",
       "         6, 305, 382, 560, 158, 176, 320, 225,  62, 255, 300, 354,  45,\n",
       "       420, 510, 243, 239, 468, 409,  24, 335, 605, 410, 416, 183, 303,\n",
       "        59,   4, 283, 385, 104, 127, 278, 344, 365, 333, 680, 161, 195,\n",
       "       214,  66, 219,  89,  41, 249, 388, 103, 217, 570, 625, 364, 450,\n",
       "       138, 253,  67, 157, 405, 517, 319, 612, 188, 710, 274, 186, 139,\n",
       "        11, 153, 323, 430, 329, 196,  57, 507, 207, 489, 460, 408, 308,\n",
       "       359, 312, 179, 149, 550, 520, 380, 297, 347, 259, 212, 343, 309,\n",
       "        53, 169, 208,  76, 449,  47, 338, 470, 151, 168, 600, 660,  48,\n",
       "       264, 315, 232,  63, 630,  51, 351, 442, 191,   5,  91,  21, 407,\n",
       "       284, 346, 717, 276, 431, 223,  40, 325, 268, 640, 292, 316, 477,\n",
       "       167, 390, 226, 317, 172, 187, 500, 289, 345, 558, 267, 540,   9,\n",
       "       279, 334, 137, 287,  10, 401, 199, 544, 298, 394, 780, 123, 530,\n",
       "       426, 307, 222,  79, 399, 263, 327, 198, 404,  30, 502, 469,   3,\n",
       "       386,  61, 154, 269, 311, 480, 376, 519, 361, 770, 453, 281, 294,\n",
       "       441, 332, 247, 227, 800, 288, 337, 324, 362,  23, 242, 357,  39,\n",
       "       575, 998, 273,  56, 119, 462,  43, 355,  52, 387, 566,  12, 439,\n",
       "       352, 422, 296, 304, 555, 551, 485,  42, 610, 397, 221, 348, 432,\n",
       "        37, 349, 302, 356,   2, 476, 975, 369, 486, 246, 372, 318, 395,\n",
       "       514,  14, 406, 412,   8, 342, 445,  13, 229, 282, 495, 378, 490,\n",
       "       368, 472, 375,   7, 363, 650, 159,  44, 434, 571, 543, 707, 301,\n",
       "       216,  36, 266, 609,  46, 900, 339, 475, 565, 396, 465, 685, 437,\n",
       "       257, 371, 492, 411, 526,  27, 549, 261, 293, 581,  28, 501, 504,\n",
       "        31, 466, 576, 415, 799,  18, 447, 366,  15, 580, 590, 564,  38,\n",
       "       291, 745, 321, 436, 314, 584, 336,  25, 531, 529, 467, 478, 322])"
      ]
     },
     "execution_count": 94,
     "metadata": {},
     "output_type": "execute_result"
    }
   ],
   "source": [
    "df['param_moc'].unique()"
   ]
  },
  {
   "cell_type": "code",
   "execution_count": 95,
   "metadata": {},
   "outputs": [
    {
     "data": {
      "text/plain": [
       "['param_napęd__cat',\n",
       " 'param_rok-produkcji',\n",
       " 'param_stan__cat',\n",
       " 'param_skrzynia-biegów__cat',\n",
       " 'param_faktura-vat__cat',\n",
       " 'param_moc',\n",
       " 'param_marka-pojazdu__cat',\n",
       " 'param_typ__cat',\n",
       " 'feature_kamera-cofania__cat',\n",
       " 'param_pojemność-skokowa__cat',\n",
       " 'seller_name__cat',\n",
       " 'param_kod-silnika__cat',\n",
       " 'param_model-pojazdu__cat',\n",
       " 'feature_wspomaganie-kierownicy__cat',\n",
       " 'param_wersja__cat',\n",
       " 'feature_czujniki-parkowania-przednie__cat',\n",
       " 'feature_asystent-pasa-ruchu__cat',\n",
       " 'feature_regulowane-zawieszenie__cat',\n",
       " 'feature_system-start-stop__cat',\n",
       " 'feature_światła-led__cat']"
      ]
     },
     "execution_count": 95,
     "metadata": {},
     "output_type": "execute_result"
    }
   ],
   "source": [
    "feats"
   ]
  },
  {
   "cell_type": "code",
   "execution_count": 96,
   "metadata": {},
   "outputs": [
    {
     "data": {
      "text/plain": [
       "(-9602.94111071797, 57.96672683246094)"
      ]
     },
     "execution_count": 96,
     "metadata": {},
     "output_type": "execute_result"
    }
   ],
   "source": [
    "run_model(xgb.XGBRegressor(**xgb_params),feats)"
   ]
  },
  {
   "cell_type": "code",
   "execution_count": 103,
   "metadata": {},
   "outputs": [],
   "source": [
    "df['param_pojemność-skokowa'] = df['param_pojemność-skokowa'].map(lambda x: -1 if str(x) == 'None' else x.split('cm')[0].replace(' ',''))"
   ]
  },
  {
   "cell_type": "code",
   "execution_count": 106,
   "metadata": {},
   "outputs": [],
   "source": [
    "index = feats.index('param_pojemność-skokowa__cat')\n",
    "feats[index] = 'param_pojemność-skokowa'"
   ]
  },
  {
   "cell_type": "code",
   "execution_count": 107,
   "metadata": {},
   "outputs": [
    {
     "data": {
      "text/plain": [
       "(-9449.513980284812, 81.47168211987172)"
      ]
     },
     "execution_count": 107,
     "metadata": {},
     "output_type": "execute_result"
    }
   ],
   "source": [
    "run_model(xgb.XGBRegressor(**xgb_params),feats)"
   ]
  },
  {
   "cell_type": "code",
   "execution_count": null,
   "metadata": {},
   "outputs": [],
   "source": []
  }
 ],
 "metadata": {
  "kernelspec": {
   "display_name": "Python 3",
   "language": "python",
   "name": "python3"
  },
  "language_info": {
   "codemirror_mode": {
    "name": "ipython",
    "version": 3
   },
   "file_extension": ".py",
   "mimetype": "text/x-python",
   "name": "python",
   "nbconvert_exporter": "python",
   "pygments_lexer": "ipython3",
   "version": "3.7.6"
  }
 },
 "nbformat": 4,
 "nbformat_minor": 4
}
